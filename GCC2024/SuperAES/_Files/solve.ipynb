{
 "cells": [
  {
   "cell_type": "code",
   "execution_count": 19,
   "metadata": {},
   "outputs": [],
   "source": [
    "import random\n",
    "\n",
    "m = 288493873028852398739253829029106548736\n",
    "a = 14\n",
    "b = a%16\n",
    "s = random.randint(1,m-1)\n",
    "\n",
    "class LCG:\n",
    "    def __init__(self, a, b, m, seed):\n",
    "        self.a = a\n",
    "        self.b = b\n",
    "        self.m = m\n",
    "        self.state = seed\n",
    "        self.counter = 0\n",
    "\n",
    "    def next_state(self):\n",
    "        ret = self.state\n",
    "        self.state = (self.a * self.state + self.b) % self.m\n",
    "        return ret\n",
    "    \n",
    "def get_data(a, m=m):\n",
    "    s = random.randint(1,m-1)\n",
    "    lcg = LCG(a, a%16, m, s)\n",
    "    data = []\n",
    "    for i in range(100):\n",
    "        data.append(lcg.next_state())\n",
    "    return data"
   ]
  },
  {
   "cell_type": "code",
   "execution_count": 17,
   "metadata": {},
   "outputs": [
    {
     "name": "stdout",
     "output_type": "stream",
     "text": [
      "b'GCC{pretend_its_a_good_flag_2515}'\n"
     ]
    }
   ],
   "source": [
    "def compute_flag(data: bytes)->bytes:\n",
    "    \"\"\"\n",
    "    Compute the flag from the given data and known information about it.\n",
    "    \"\"\"\n",
    "    LEN_FLAG  = 33\n",
    "    LEN_BLOCK = 16\n",
    "\n",
    "    known_flag = b\"GCC{\" + b\"\\xFF\" * 28 + b\"}\" # Unknown bytes are 0xFF\n",
    "    known_keystream_block = [None for _ in range(16)]\n",
    "\n",
    "    # Guess the known_keystream_block using the info we know\n",
    "    for i in range(len(data)):\n",
    "        if known_flag[i%LEN_FLAG] != 0xFF:\n",
    "            # Overwrite the previous value, as it might not be in the constant state yet\n",
    "            known_keystream_block[i%LEN_BLOCK] = data[i] ^ known_flag[i%LEN_FLAG]\n",
    "\n",
    "    # Compute the flag\n",
    "    plaintext = bytes([data[i] ^ known_keystream_block[i%LEN_BLOCK] for i in range(len(data))])\n",
    "    return plaintext[-LEN_FLAG:]\n",
    "\n",
    "# Offline test\n",
    "data = \"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\"\n",
    "data = bytes.fromhex(data)\n",
    "print(compute_flag(data))\n"
   ]
  },
  {
   "cell_type": "code",
   "execution_count": 18,
   "metadata": {},
   "outputs": [
    {
     "name": "stdout",
     "output_type": "stream",
     "text": [
      "b'GCC{pretend_its_a_good_flag_2515}'\n"
     ]
    }
   ],
   "source": [
    "import socket\n",
    "import time\n",
    "\n",
    "for i in range(15):\n",
    "    \n",
    "    s = socket.socket(socket.AF_INET, socket.SOCK_STREAM)\n",
    "    s.connect((\"challenges1.gcc-ctf.com\", 4001))\n",
    "\n",
    "    data_recv = s.recv(1024)\n",
    "    s.send(b\"49\\n\")\n",
    "    data_recv = s.recv(10000)\n",
    "    data = bytes.fromhex(data_recv.decode())\n",
    "    candidate = compute_flag(data)\n",
    "    if candidate.startswith(b\"GCC{\"):\n",
    "        print(candidate)\n",
    "        break\n",
    "    time.sleep(.95)\n"
   ]
  }
 ],
 "metadata": {
  "kernelspec": {
   "display_name": "Python 3",
   "language": "python",
   "name": "python3"
  },
  "language_info": {
   "codemirror_mode": {
    "name": "ipython",
    "version": 3
   },
   "file_extension": ".py",
   "mimetype": "text/x-python",
   "name": "python",
   "nbconvert_exporter": "python",
   "pygments_lexer": "ipython3",
   "version": "3.11.7"
  }
 },
 "nbformat": 4,
 "nbformat_minor": 2
}
